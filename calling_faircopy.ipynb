{
 "cells": [
  {
   "cell_type": "code",
   "execution_count": 1,
   "id": "8d3a889b",
   "metadata": {
    "scrolled": true
   },
   "outputs": [],
   "source": [
    "from faircopy import faircopy"
   ]
  },
  {
   "cell_type": "code",
   "execution_count": 2,
   "id": "ecf3922c",
   "metadata": {
    "scrolled": true
   },
   "outputs": [
    {
     "name": "stdout",
     "output_type": "stream",
     "text": [
      "Sub-fields in AI are: \n",
      "Machine Learning\n",
      "Neural Networks\n",
      "Vision\n",
      "Robotics\n",
      "Speech Processing\n",
      "Natural Language Processing\n"
     ]
    }
   ],
   "source": [
    "print(\"Sub-fields in AI are: \")\n",
    "value=faircopy.SubfieldsInAI()"
   ]
  },
  {
   "cell_type": "code",
   "execution_count": 3,
   "id": "0050be48",
   "metadata": {
    "scrolled": true
   },
   "outputs": [
    {
     "name": "stdout",
     "output_type": "stream",
     "text": [
      "Enter a number: 50\n",
      "50 is Even number\n"
     ]
    }
   ],
   "source": [
    "value=faircopy.OddEven()"
   ]
  },
  {
   "cell_type": "code",
   "execution_count": 4,
   "id": "b528363e",
   "metadata": {},
   "outputs": [
    {
     "name": "stdout",
     "output_type": "stream",
     "text": [
      "Your Gender: female\n",
      "Your Age: 18\n",
      "NOT ELIGIBLE\n"
     ]
    }
   ],
   "source": [
    "value=faircopy.ElegiblityForMarriage()"
   ]
  },
  {
   "cell_type": "code",
   "execution_count": 5,
   "id": "8ce445a9",
   "metadata": {
    "scrolled": false
   },
   "outputs": [
    {
     "name": "stdout",
     "output_type": "stream",
     "text": [
      "Subject1= 50\n",
      "Subject2= 50\n",
      "Subject3= 50\n",
      "Subject4= 50\n",
      "Subject5= 50\n",
      "Total : 250\n",
      "Percentage: 50.0\n",
      "Not Eligible\n"
     ]
    }
   ],
   "source": [
    "value=faircopy.percentage()\n",
    "if(value>90):\n",
    "    print(\"Eligible for 1st place\")\n",
    "else:\n",
    "    print(\"Not Eligible\")"
   ]
  },
  {
   "cell_type": "code",
   "execution_count": 6,
   "id": "332c8d96",
   "metadata": {
    "scrolled": true
   },
   "outputs": [
    {
     "name": "stdout",
     "output_type": "stream",
     "text": [
      "Height:50\n",
      "Breadth:50\n",
      "Area formula: 1250.0\n",
      "Height1: 50\n",
      "Height2: 50\n",
      "Breadth: 50\n",
      "Perimeter formula: Height1+Height2+Breadth\n",
      "Perimeter of Triangle: 150\n"
     ]
    }
   ],
   "source": [
    "value=faircopy.triangle()"
   ]
  },
  {
   "cell_type": "code",
   "execution_count": null,
   "id": "b3d57934",
   "metadata": {},
   "outputs": [],
   "source": []
  }
 ],
 "metadata": {
  "kernelspec": {
   "display_name": "Python 3 (ipykernel)",
   "language": "python",
   "name": "python3"
  },
  "language_info": {
   "codemirror_mode": {
    "name": "ipython",
    "version": 3
   },
   "file_extension": ".py",
   "mimetype": "text/x-python",
   "name": "python",
   "nbconvert_exporter": "python",
   "pygments_lexer": "ipython3",
   "version": "3.11.5"
  }
 },
 "nbformat": 4,
 "nbformat_minor": 5
}
