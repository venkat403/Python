{
 "cells": [
  {
   "cell_type": "code",
   "execution_count": null,
   "id": "fdc6cfd2",
   "metadata": {},
   "outputs": [],
   "source": [
    "class Subfields():\n",
    "    def SubfieldsInAI():\n",
    "        Learn=[\"Machine Learning\", \"Neural Networks\", \"Vision\", \"Robotics\", \"Speech Processing\", \"Natural Language Processing\"] \n",
    "        for a in Learn:\n",
    "            print(a)\n",
    "        return a\n",
    "\n",
    "\n",
    "\n",
    "\n",
    "\n",
    "    "
   ]
  },
  {
   "cell_type": "code",
   "execution_count": null,
   "id": "53139815",
   "metadata": {
    "scrolled": true
   },
   "outputs": [],
   "source": [
    "print(\"Sub-fields in AI are: \")\n",
    "message=Subfields.SubfieldsInAI()"
   ]
  },
  {
   "cell_type": "code",
   "execution_count": null,
   "id": "e8e2b6e6",
   "metadata": {},
   "outputs": [],
   "source": [
    "class OddEven():\n",
    "    def OddEven():\n",
    "        num1=int(input(\"Enter a number: \"))\n",
    "        if(num1%2)==0:\n",
    "            print(num1,\"is Even number\")\n",
    "        else:\n",
    "            print(num1,\"is Odd number\")\n",
    "        return num1\n",
    "\n"
   ]
  },
  {
   "cell_type": "code",
   "execution_count": null,
   "id": "4e5cf842",
   "metadata": {
    "scrolled": true
   },
   "outputs": [],
   "source": [
    "value=OddEven.OddEven()"
   ]
  },
  {
   "cell_type": "code",
   "execution_count": null,
   "id": "b3d35ed2",
   "metadata": {},
   "outputs": [],
   "source": [
    "class Elegible():\n",
    "    def  ElegiblityForMarriage():\n",
    "        gender=str(input(\"Your Gender: \"))\n",
    "        age=int(input(\"Your Age: \"))\n",
    "        if(age<23):\n",
    "            print(\"NOT ELIGIBLE\")\n",
    "            Elegible=\"NOT ELIGIBLE\"\n",
    "        else:\n",
    "            print(\"ELIGIBLE\")\n",
    "            Elegible=\"ELIGIBLE\"\n",
    "        return Elegible\n"
   ]
  },
  {
   "cell_type": "code",
   "execution_count": null,
   "id": "70d7ad46",
   "metadata": {},
   "outputs": [],
   "source": [
    "value=Elegible.ElegiblityForMarriage()"
   ]
  },
  {
   "cell_type": "code",
   "execution_count": null,
   "id": "72863b3c",
   "metadata": {},
   "outputs": [],
   "source": [
    "class findpercent():\n",
    "    def percentage():\n",
    "        Sub1= int(input(\"Subject1= \"))\n",
    "        Sub2= int(input(\"Subject2= \"))\n",
    "        Sub3= int(input(\"Subject3= \"))\n",
    "        Sub4= int(input(\"Subject4= \"))\n",
    "        Sub5= int(input(\"Subject5= \"))\n",
    "        add=Sub1+Sub2+Sub3+Sub4+Sub5\n",
    "        print(\"Total :\",add)\n",
    "        final=add\n",
    "        Percent=add/5\n",
    "        print(\"Percentage:\",Percent)\n",
    "        final=Percent\n",
    "        return final\n",
    "\n",
    " "
   ]
  },
  {
   "cell_type": "code",
   "execution_count": null,
   "id": "c05cfcec",
   "metadata": {
    "scrolled": true
   },
   "outputs": [],
   "source": [
    "final=findpercent.percentage()\n",
    "if(final>90):\n",
    "    print(\"Eligible for 1st place\")\n",
    "else:\n",
    "    print(\"Not Eligible\")\n"
   ]
  },
  {
   "cell_type": "code",
   "execution_count": null,
   "id": "c8919e3b",
   "metadata": {},
   "outputs": [],
   "source": [
    "class triangle():\n",
    "    def triangle():\n",
    "        h1=int(input(\"Height:\"))\n",
    "        b1=int(input(\"Breadth:\"))\n",
    "        Area_formula=h1*b1/2\n",
    "        print(\"Area formula:\", Area_formula)\n",
    "        formula=Area_formula\n",
    "        h2=int(input(\"Height1: \"))\n",
    "        h3=int(input(\"Height2: \"))\n",
    "        b2=int(input(\"Breadth: \"))\n",
    "        print(\"Perimeter formula: Height1+Height2+Breadth\")\n",
    "        f1=h2+h3+b2\n",
    "        print(\"Perimeter of Triangle:\",f1)\n",
    "        formula=f1\n",
    "        return formula"
   ]
  },
  {
   "cell_type": "code",
   "execution_count": null,
   "id": "2bdd9c5f",
   "metadata": {},
   "outputs": [],
   "source": [
    "value=triangle.triangle()"
   ]
  },
  {
   "cell_type": "code",
   "execution_count": null,
   "id": "e657cd1f",
   "metadata": {},
   "outputs": [],
   "source": []
  }
 ],
 "metadata": {
  "kernelspec": {
   "display_name": "Python 3 (ipykernel)",
   "language": "python",
   "name": "python3"
  },
  "language_info": {
   "codemirror_mode": {
    "name": "ipython",
    "version": 3
   },
   "file_extension": ".py",
   "mimetype": "text/x-python",
   "name": "python",
   "nbconvert_exporter": "python",
   "pygments_lexer": "ipython3",
   "version": "3.11.5"
  }
 },
 "nbformat": 4,
 "nbformat_minor": 5
}
