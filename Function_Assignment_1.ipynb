{
 "cells": [
  {
   "cell_type": "code",
   "execution_count": 7,
   "id": "e538e76f",
   "metadata": {
    "scrolled": false
   },
   "outputs": [
    {
     "name": "stdout",
     "output_type": "stream",
     "text": [
      "Sub-fields in AI are: \n",
      "Machine Learning\n",
      "Neural Networks\n",
      "Vision\n",
      "Robotics\n",
      "Speech Processing\n",
      "Natural Language Processing\n"
     ]
    }
   ],
   "source": [
    "class AI():\n",
    "    def SubfieldsInAI():\n",
    "        Learn=[\"Machine Learning\", \"Neural Networks\", \"Vision\", \"Robotics\", \"Speech Processing\", \"Natural Language Processing\"] \n",
    "        for a in Learn:\n",
    "            print(a)\n",
    "            value=\"a\"\n",
    "        return a\n",
    "           \n",
    "print(\"Sub-fields in AI are: \")\n",
    "value=AI.SubfieldsInAI()\n"
   ]
  },
  {
   "cell_type": "code",
   "execution_count": null,
   "id": "cc742a36",
   "metadata": {
    "scrolled": false
   },
   "outputs": [],
   "source": [
    "print(\"Sub-fields in AI are: \")\n",
    "message=SubfieldsInAI()\n",
    "\n",
    "\n"
   ]
  },
  {
   "cell_type": "code",
   "execution_count": null,
   "id": "577138c7",
   "metadata": {},
   "outputs": [],
   "source": [
    "def OddEven():\n",
    "    num1=int(input(\"Enter a number: \"))\n",
    "    if(num1%2)==0:\n",
    "        print(num1,\"is Even number\")\n",
    "    else:\n",
    "        print(num1,\"is Odd number\")\n",
    "    return num1\n",
    "\n",
    "value=OddEven()\n",
    "\n",
    "\n"
   ]
  },
  {
   "cell_type": "code",
   "execution_count": null,
   "id": "9f7b579c",
   "metadata": {},
   "outputs": [],
   "source": [
    "def  ElegiblityForMarriage():\n",
    "    gender=str(input(\"Your Gender: \"))\n",
    "    age=int(input(\"Your Age: \"))\n",
    "    if(age<23):\n",
    "        print(\"NOT ELIGIBLE\")\n",
    "        Elegible=\"NOT ELIGIBLE\"\n",
    "    else:\n",
    "        print(\"ELIGIBLE\")\n",
    "        Elegible=\"ELIGIBLE\"\n",
    "    return Elegible\n",
    "value=ElegiblityForMarriage()\n",
    "\n",
    "\n",
    "\n",
    "        \n"
   ]
  },
  {
   "cell_type": "code",
   "execution_count": null,
   "id": "fe096d2f",
   "metadata": {},
   "outputs": [],
   "source": [
    "def percentage():\n",
    "    Sub1= int(input(\"Subject1= \"))\n",
    "    Sub2= int(input(\"Subject2= \"))\n",
    "    Sub3= int(input(\"Subject3= \"))\n",
    "    Sub4= int(input(\"Subject4= \"))\n",
    "    Sub5= int(input(\"Subject5= \"))\n",
    "    add=Sub1+Sub2+Sub3+Sub4+Sub5\n",
    "    print(\"Total :\",add)\n",
    "    final=add\n",
    "    Percent=add/5\n",
    "    print(\"Percentage:\",Percent)\n",
    "    final=Percent\n",
    "    return final\n",
    "final=percentage()\n",
    "if(final>90):\n",
    "    print(\"Eligible for 1st place\")\n",
    "else:\n",
    "    print(\"Not Eligible\")\n",
    "\n"
   ]
  },
  {
   "cell_type": "code",
   "execution_count": null,
   "id": "7f807f4b",
   "metadata": {},
   "outputs": [],
   "source": [
    "def triangle():\n",
    "    h1=int(input(\"Height:\"))\n",
    "    b1=int(input(\"Breadth:\"))\n",
    "    Area_formula=h1*b1/2\n",
    "    print(\"Area formula:\", Area_formula)\n",
    "    formula=Area_formula\n",
    "    h2=int(input(\"Height1: \"))\n",
    "    h3=int(input(\"Height2: \"))\n",
    "    b2=int(input(\"Breadth: \"))\n",
    "    print(\"Perimeter formula: Height1+Height2+Breadth\")\n",
    "    f1=h2+h3+b2\n",
    "    print(\"Perimeter of Triangle:\",f1)\n",
    "    formula=f1\n",
    "    return formula\n",
    "formula=triangle()\n",
    "\n",
    "\n"
   ]
  },
  {
   "cell_type": "code",
   "execution_count": null,
   "id": "d45515a2",
   "metadata": {},
   "outputs": [],
   "source": []
  }
 ],
 "metadata": {
  "kernelspec": {
   "display_name": "Python 3 (ipykernel)",
   "language": "python",
   "name": "python3"
  },
  "language_info": {
   "codemirror_mode": {
    "name": "ipython",
    "version": 3
   },
   "file_extension": ".py",
   "mimetype": "text/x-python",
   "name": "python",
   "nbconvert_exporter": "python",
   "pygments_lexer": "ipython3",
   "version": "3.11.5"
  }
 },
 "nbformat": 4,
 "nbformat_minor": 5
}
